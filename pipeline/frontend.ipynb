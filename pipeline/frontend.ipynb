{
 "cells": [
  {
   "cell_type": "code",
   "execution_count": 1,
   "metadata": {},
   "outputs": [
    {
     "name": "stdout",
     "output_type": "stream",
     "text": [
      "* Running on local URL:  http://127.0.0.1:7860\n",
      "\n",
      "To create a public link, set `share=True` in `launch()`.\n"
     ]
    },
    {
     "data": {
      "text/html": [
       "<div><iframe src=\"http://127.0.0.1:7860/\" width=\"100%\" height=\"500\" allow=\"autoplay; camera; microphone; clipboard-read; clipboard-write;\" frameborder=\"0\" allowfullscreen></iframe></div>"
      ],
      "text/plain": [
       "<IPython.core.display.HTML object>"
      ]
     },
     "metadata": {},
     "output_type": "display_data"
    },
    {
     "name": "stdout",
     "output_type": "stream",
     "text": [
      "Keyboard interruption in main thread... closing server.\n"
     ]
    },
    {
     "data": {
      "text/plain": []
     },
     "execution_count": 1,
     "metadata": {},
     "output_type": "execute_result"
    }
   ],
   "source": [
    "from scraper import MangaScraper\n",
    "from image_processory import OCR\n",
    "from PIL import Image\n",
    "import gradio as gr\n",
    "import os\n",
    "\n",
    "uploaded_images = []\n",
    "languages_map = {\n",
    "    \"Hindi\": [os.path.join('..', 'data', 'fonts', \"NotoSansHindi-Regular.ttf\"), \"hi-IN\"],\n",
    "    \"Kannada\": [os.path.join('..', 'data', 'fonts', \"NotoSansKannada-Regular.ttf\"), \"kn-IN\"],\n",
    "    \"Bengali\": [os.path.join('..', 'data', 'fonts', \"NotoSansBengali-Regular.ttf\"), \"bn-IN\"],\n",
    "    \"Gujarati\": [os.path.join('..', 'data', 'fonts', \"NotoSansGujarati-Regular.ttf\"), \"gu-IN\"],\n",
    "}\n",
    "# Dummy function for translation (replace with actual translation logic)\n",
    "def translate_manga():\n",
    "    global uploaded_images\n",
    "    ocr = OCR()\n",
    "    translated_images = [ocr.translate_image(uploaded_image) for uploaded_image in uploaded_images]\n",
    "\n",
    "    # for i in uploaded_images:\n",
    "    #     translated_image = ocr.translate_image(i)\n",
    "    #     translated_images.append(translated_image)\n",
    "\n",
    "    return translated_images\n",
    "\n",
    "def process_uploaded_files(url):\n",
    "    global uploaded_images\n",
    "    uploaded_images = []\n",
    "    manga_scraper = MangaScraper()\n",
    "    \n",
    "    scraped_images_path = manga_scraper.scrape_manga_pill(url)\n",
    "    if(scraped_images_path != False):\n",
    "        print(\"Scraping Completed\")\n",
    "        images = [Image.open(file) for file in scraped_images_path]\n",
    "        uploaded_images = scraped_images_path\n",
    "    else:\n",
    "        print(\"An error occurred while scraping the manga\")\n",
    "        images = []\n",
    "\n",
    "    return images\n",
    "\n",
    "# Gradio interface\n",
    "with gr.Blocks() as manga_translation_ui:\n",
    "    languages = [\"Hindi\", \"Kannada\", \"Bengali\", \"Gujarati\"]\n",
    "    endpoints = [\"Groq\", \"Sarvam\"]\n",
    "    gr.Markdown(\"## Manga Translation Program\")\n",
    "\n",
    "    with gr.Row():\n",
    "        with gr.Column():\n",
    "            gr.Markdown(\"### Original Manga Pages\")\n",
    "            original_images = gr.Gallery(label=\"Upload Manga Pages\", interactive=False, height=\"900px\")\n",
    "        \n",
    "        with gr.Column():\n",
    "            gr.Markdown(\"### Translated Manga Pages\")\n",
    "            translated_images = gr.Gallery(label=\"Translated Manga Pages\", interactive=False, height=\"900px\")\n",
    "    \n",
    "    url_input = gr.Textbox(label=\"Enter Manga URL here...\", placeholder=\"Enter Manga URL here...\", lines=1)\n",
    "    language_dropdown = gr.Dropdown(label=\"Select a language\", choices=languages)\n",
    "    endpoint_dropdown = gr.Dropdown(label=\"Select an endpoint\", choices=endpoints)\n",
    "\n",
    "    upload_btn = gr.Button(\"Upload Manga Pages\")\n",
    "    translate_btn = gr.Button(\"Translate\")\n",
    "   \n",
    "    upload_btn.click(process_uploaded_files, inputs=[url_input], outputs=[original_images])\n",
    "    translate_btn.click(fn=translate_manga, inputs=None, outputs=[translated_images])\n",
    "\n",
    "# Launch the Gradio app\n",
    "manga_translation_ui.launch(debug=True)\n"
   ]
  },
  {
   "cell_type": "code",
   "execution_count": 2,
   "metadata": {},
   "outputs": [
    {
     "ename": "TypeError",
     "evalue": "EventListener._setup.<locals>.event_trigger() got an unexpected keyword argument 'stream'",
     "output_type": "error",
     "traceback": [
      "\u001b[0;31m---------------------------------------------------------------------------\u001b[0m",
      "\u001b[0;31mTypeError\u001b[0m                                 Traceback (most recent call last)",
      "Cell \u001b[0;32mIn[2], line 66\u001b[0m\n\u001b[1;32m     63\u001b[0m     upload_btn\u001b[38;5;241m.\u001b[39mclick(process_uploaded_files, inputs\u001b[38;5;241m=\u001b[39m[url_input], outputs\u001b[38;5;241m=\u001b[39m[original_images])\n\u001b[1;32m     65\u001b[0m     \u001b[38;5;66;03m# The `translate_manga` now streams the results instead of returning them all at once\u001b[39;00m\n\u001b[0;32m---> 66\u001b[0m     \u001b[43mtranslate_btn\u001b[49m\u001b[38;5;241;43m.\u001b[39;49m\u001b[43mclick\u001b[49m\u001b[43m(\u001b[49m\u001b[43mfn\u001b[49m\u001b[38;5;241;43m=\u001b[39;49m\u001b[43mtranslate_manga\u001b[49m\u001b[43m,\u001b[49m\u001b[43m \u001b[49m\u001b[43minputs\u001b[49m\u001b[38;5;241;43m=\u001b[39;49m\u001b[38;5;28;43;01mNone\u001b[39;49;00m\u001b[43m,\u001b[49m\u001b[43m \u001b[49m\u001b[43moutputs\u001b[49m\u001b[38;5;241;43m=\u001b[39;49m\u001b[43mtranslated_images\u001b[49m\u001b[43m,\u001b[49m\u001b[43m \u001b[49m\u001b[43mstream\u001b[49m\u001b[38;5;241;43m=\u001b[39;49m\u001b[38;5;28;43;01mTrue\u001b[39;49;00m\u001b[43m)\u001b[49m\n\u001b[1;32m     68\u001b[0m \u001b[38;5;66;03m# Launch the Gradio app\u001b[39;00m\n\u001b[1;32m     69\u001b[0m manga_translation_ui\u001b[38;5;241m.\u001b[39mlaunch(debug\u001b[38;5;241m=\u001b[39m\u001b[38;5;28;01mTrue\u001b[39;00m)\n",
      "\u001b[0;31mTypeError\u001b[0m: EventListener._setup.<locals>.event_trigger() got an unexpected keyword argument 'stream'"
     ]
    }
   ],
   "source": [
    "from scraper import MangaScraper\n",
    "from image_processory import OCR\n",
    "from PIL import Image\n",
    "import gradio as gr\n",
    "import os\n",
    "\n",
    "uploaded_images = []\n",
    "languages_map = {\n",
    "    \"Hindi\": [os.path.join('..', 'data', 'fonts', \"NotoSansHindi-Regular.ttf\"), \"hi-IN\"],\n",
    "    \"Kannada\": [os.path.join('..', 'data', 'fonts', \"NotoSansKannada-Regular.ttf\"), \"kn-IN\"],\n",
    "    \"Bengali\": [os.path.join('..', 'data', 'fonts', \"NotoSansBengali-Regular.ttf\"), \"bn-IN\"],\n",
    "    \"Gujarati\": [os.path.join('..', 'data', 'fonts', \"NotoSansGujarati-Regular.ttf\"), \"gu-IN\"],\n",
    "}\n",
    "\n",
    "# Dummy function for translation (replace with actual translation logic)\n",
    "def translate_manga():\n",
    "    global uploaded_images\n",
    "    ocr = OCR()\n",
    "    \n",
    "    # Iterate over images and yield the translated image one by one\n",
    "    for uploaded_image in uploaded_images:\n",
    "        translated_image = ocr.translate_image(uploaded_image)\n",
    "        yield translated_image\n",
    "\n",
    "def process_uploaded_files(url):\n",
    "    global uploaded_images\n",
    "    uploaded_images = []\n",
    "    manga_scraper = MangaScraper()\n",
    "    \n",
    "    scraped_images_path = manga_scraper.scrape_manga_pill(url)\n",
    "    if scraped_images_path != False:\n",
    "        print(\"Scraping Completed\")\n",
    "        images = [Image.open(file) for file in scraped_images_path]\n",
    "        uploaded_images = scraped_images_path\n",
    "    else:\n",
    "        print(\"An error occurred while scraping the manga\")\n",
    "        images = []\n",
    "\n",
    "    return images\n",
    "\n",
    "# Gradio interface\n",
    "with gr.Blocks() as manga_translation_ui:\n",
    "    languages = [\"Hindi\", \"Kannada\", \"Bengali\", \"Gujarati\"]\n",
    "    endpoints = [\"Groq\", \"Sarvam\"]\n",
    "    gr.Markdown(\"## Manga Translation Program\")\n",
    "\n",
    "    with gr.Row():\n",
    "        with gr.Column():\n",
    "            gr.Markdown(\"### Original Manga Pages\")\n",
    "            original_images = gr.Gallery(label=\"Upload Manga Pages\", interactive=False, height=\"900px\")\n",
    "        \n",
    "        with gr.Column():\n",
    "            gr.Markdown(\"### Translated Manga Pages\")\n",
    "            translated_images = gr.Gallery(label=\"Translated Manga Pages\", interactive=False, height=\"900px\")\n",
    "    \n",
    "    url_input = gr.Textbox(label=\"Enter Manga URL here...\", placeholder=\"Enter Manga URL here...\", lines=1)\n",
    "    language_dropdown = gr.Dropdown(label=\"Select a language\", choices=languages)\n",
    "    endpoint_dropdown = gr.Dropdown(label=\"Select an endpoint\", choices=endpoints)\n",
    "\n",
    "    upload_btn = gr.Button(\"Upload Manga Pages\")\n",
    "    translate_btn = gr.Button(\"Translate\")\n",
    "   \n",
    "    upload_btn.click(process_uploaded_files, inputs=[url_input], outputs=[original_images])\n",
    "    \n",
    "    # The `translate_manga` now streams the results instead of returning them all at once\n",
    "    translate_btn.click(fn=translate_manga, inputs=None, outputs=translated_images, stream=True)\n",
    "\n",
    "# Launch the Gradio app\n",
    "manga_translation_ui.launch(debug=True)"
   ]
  },
  {
   "cell_type": "code",
   "execution_count": 1,
   "metadata": {},
   "outputs": [
    {
     "name": "stdout",
     "output_type": "stream",
     "text": [
      "* Running on local URL:  http://127.0.0.1:7860\n",
      "\n",
      "To create a public link, set `share=True` in `launch()`.\n"
     ]
    },
    {
     "data": {
      "text/html": [
       "<div><iframe src=\"http://127.0.0.1:7860/\" width=\"100%\" height=\"500\" allow=\"autoplay; camera; microphone; clipboard-read; clipboard-write;\" frameborder=\"0\" allowfullscreen></iframe></div>"
      ],
      "text/plain": [
       "<IPython.core.display.HTML object>"
      ]
     },
     "metadata": {},
     "output_type": "display_data"
    },
    {
     "name": "stdout",
     "output_type": "stream",
     "text": [
      "<img alt=\"Chainsaw Man Chapter 180 Page 1\" class=\"js-page\" data-src=\"https://cdn.readdetectiveconan.com/file/mangap/723/10180000/1.jpeg?t=1729005075\" height=\"1145\" loading=\"lazy\" width=\"784\"/>\n",
      "chainsaw-man-chapter-180\n",
      "dir_path: ../data/images/chainsaw-man-chapter-180\n",
      "Creation of the directory failed\n",
      "[Errno 17] File exists: '../data/images/chainsaw-man-chapter-180'\n",
      "img_path:  ../data/images/chainsaw-man-chapter-180/1.jpeg?t=1729005075\n",
      "img_path:  ../data/images/chainsaw-man-chapter-180/2.jpeg?t=1729005075\n",
      "img_path:  ../data/images/chainsaw-man-chapter-180/3.jpeg?t=1729005075\n",
      "img_path:  ../data/images/chainsaw-man-chapter-180/4.jpeg?t=1729005075\n",
      "img_path:  ../data/images/chainsaw-man-chapter-180/5.jpeg?t=1729005075\n",
      "img_path:  ../data/images/chainsaw-man-chapter-180/6.jpeg?t=1729005075\n",
      "img_path:  ../data/images/chainsaw-man-chapter-180/7.jpeg?t=1729005075\n",
      "img_path:  ../data/images/chainsaw-man-chapter-180/8.jpeg?t=1729005075\n",
      "img_path:  ../data/images/chainsaw-man-chapter-180/9.jpeg?t=1729005075\n",
      "img_path:  ../data/images/chainsaw-man-chapter-180/10.jpeg?t=1729005075\n",
      "img_path:  ../data/images/chainsaw-man-chapter-180/11.jpeg?t=1729005075\n",
      "img_path:  ../data/images/chainsaw-man-chapter-180/12.jpeg?t=1729005075\n",
      "img_path:  ../data/images/chainsaw-man-chapter-180/13.jpeg?t=1729005075\n",
      "img_path:  ../data/images/chainsaw-man-chapter-180/14.jpeg?t=1729005075\n",
      "img_path:  ../data/images/chainsaw-man-chapter-180/15.jpeg?t=1729005075\n",
      "img_path:  ../data/images/chainsaw-man-chapter-180/16.jpeg?t=1729005075\n",
      "img_path:  ../data/images/chainsaw-man-chapter-180/17.jpeg?t=1729005075\n",
      "img_path:  ../data/images/chainsaw-man-chapter-180/18.jpeg?t=1729005075\n",
      "Scraping Completed\n"
     ]
    }
   ],
   "source": [
    "from scraper import MangaScraper\n",
    "from image_processory import OCR\n",
    "from PIL import Image\n",
    "import gradio as gr\n",
    "import os\n",
    "\n",
    "uploaded_images = []\n",
    "\n",
    "# Dummy function for translation (replace with actual translation logic)\n",
    "def translate_manga(language):\n",
    "    print(\"Translating manga to\", language)\n",
    "    global uploaded_images\n",
    "    ocr = OCR()\n",
    "    \n",
    "    translated_images = []\n",
    "    # Iterate over images and yield the translated image one by one\n",
    "    for uploaded_image in uploaded_images:\n",
    "        translated_image = ocr.translate_image(uploaded_image, language=language)\n",
    "        translated_images.append(translated_image)\n",
    "        # Use gr.update to progressively update the gallery\n",
    "        yield gr.update(value=translated_images)\n",
    "\n",
    "def process_uploaded_files(url):\n",
    "    global uploaded_images\n",
    "    uploaded_images = []\n",
    "    manga_scraper = MangaScraper()\n",
    "    \n",
    "    scraped_images_path = manga_scraper.scrape_manga_pill(url)\n",
    "    if scraped_images_path != False:\n",
    "        print(\"Scraping Completed\")\n",
    "        images = [Image.open(file) for file in scraped_images_path]\n",
    "        uploaded_images = scraped_images_path\n",
    "    else:\n",
    "        print(\"An error occurred while scraping the manga\")\n",
    "        images = []\n",
    "\n",
    "    return images\n",
    "\n",
    "# Gradio interface\n",
    "with gr.Blocks() as manga_translation_ui:\n",
    "    languages = [\"Hindi\", \"Kannada\", \"Bengali\", \"Gujarati\"]\n",
    "    endpoints = [\"Groq\", \"Sarvam\"]\n",
    "    gr.Markdown(\"## Manga Translation Program\")\n",
    "\n",
    "    with gr.Row():\n",
    "        with gr.Column():\n",
    "            gr.Markdown(\"### Original Manga Pages\")\n",
    "            original_images = gr.Gallery(label=\"Upload Manga Pages\", interactive=False, height=\"900px\")\n",
    "        \n",
    "        with gr.Column():\n",
    "            gr.Markdown(\"### Translated Manga Pages\")\n",
    "            translated_images = gr.Gallery(label=\"Translated Manga Pages\", interactive=False, height=\"900px\")\n",
    "    \n",
    "    url_input = gr.Textbox(label=\"Enter Manga URL here...\", placeholder=\"Enter Manga URL here...\", lines=1)\n",
    "    language_dropdown = gr.Dropdown(label=\"Select a language\", choices=languages, value=languages[0])\n",
    "    endpoint_dropdown = gr.Dropdown(label=\"Select an endpoint\", choices=endpoints, value=endpoints[0])\n",
    "\n",
    "    upload_btn = gr.Button(\"Upload Manga Pages\")\n",
    "    translate_btn = gr.Button(\"Translate\")\n",
    "   \n",
    "    upload_btn.click(process_uploaded_files, inputs=[url_input], outputs=[original_images])\n",
    "    \n",
    "    # No need for `stream=True`, use generator for progressively updating output\n",
    "\n",
    "    translate_btn.click(fn=translate_manga, inputs=[language_dropdown], outputs=[translated_images])\n",
    "\n",
    "# Launch the Gradio app\n",
    "manga_translation_ui.launch(debug=True)"
   ]
  }
 ],
 "metadata": {
  "kernelspec": {
   "display_name": "Python 3",
   "language": "python",
   "name": "python3"
  },
  "language_info": {
   "codemirror_mode": {
    "name": "ipython",
    "version": 3
   },
   "file_extension": ".py",
   "mimetype": "text/x-python",
   "name": "python",
   "nbconvert_exporter": "python",
   "pygments_lexer": "ipython3",
   "version": "3.12.3"
  }
 },
 "nbformat": 4,
 "nbformat_minor": 2
}
