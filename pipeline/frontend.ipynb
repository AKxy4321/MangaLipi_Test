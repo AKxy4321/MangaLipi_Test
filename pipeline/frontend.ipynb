{
 "cells": [
  {
   "cell_type": "code",
   "execution_count": null,
   "metadata": {},
   "outputs": [
    {
     "name": "stderr",
     "output_type": "stream",
     "text": [
      "C:\\Users\\LENOVO\\AppData\\Roaming\\Python\\Python312\\site-packages\\tqdm\\auto.py:21: TqdmWarning: IProgress not found. Please update jupyter and ipywidgets. See https://ipywidgets.readthedocs.io/en/stable/user_install.html\n",
      "  from .autonotebook import tqdm as notebook_tqdm\n"
     ]
    },
    {
     "name": "stdout",
     "output_type": "stream",
     "text": [
      "Running on local URL:  http://127.0.0.1:7860\n",
      "\n",
      "To create a public link, set `share=True` in `launch()`.\n"
     ]
    },
    {
     "data": {
      "text/html": [
       "<div><iframe src=\"http://127.0.0.1:7860/\" width=\"100%\" height=\"500\" allow=\"autoplay; camera; microphone; clipboard-read; clipboard-write;\" frameborder=\"0\" allowfullscreen></iframe></div>"
      ],
      "text/plain": [
       "<IPython.core.display.HTML object>"
      ]
     },
     "metadata": {},
     "output_type": "display_data"
    },
    {
     "name": "stderr",
     "output_type": "stream",
     "text": [
      "IMPORTANT: You are using gradio version 4.16.0, however version 4.44.1 is available, please upgrade.\n",
      "--------\n",
      "<img alt=\"Chainsaw Man Chapter 180 Page 1\" class=\"js-page\" data-src=\"https://cdn.readdetectiveconan.com/file/mangap/723/10180000/1.jpeg?t=1729005075\" height=\"1145\" loading=\"lazy\" width=\"784\"/>\n",
      "chainsaw-man-chapter-180\n",
      "dir_path: ..\\data\\images\\chainsaw-man-chapter-180\n",
      "Creation of the directory failed\n",
      "[WinError 183] Cannot create a file when that file already exists: '..\\\\data\\\\images\\\\chainsaw-man-chapter-180'\n",
      "img_path:  ..\\data\\images\\chainsaw-man-chapter-180\\1.jpeg?t=1729005075\n",
      "img_path:  ..\\data\\images\\chainsaw-man-chapter-180\\2.jpeg?t=1729005075\n",
      "img_path:  ..\\data\\images\\chainsaw-man-chapter-180\\3.jpeg?t=1729005075\n",
      "img_path:  ..\\data\\images\\chainsaw-man-chapter-180\\4.jpeg?t=1729005075\n",
      "img_path:  ..\\data\\images\\chainsaw-man-chapter-180\\5.jpeg?t=1729005075\n",
      "img_path:  ..\\data\\images\\chainsaw-man-chapter-180\\6.jpeg?t=1729005075\n",
      "img_path:  ..\\data\\images\\chainsaw-man-chapter-180\\7.jpeg?t=1729005075\n",
      "img_path:  ..\\data\\images\\chainsaw-man-chapter-180\\8.jpeg?t=1729005075\n",
      "img_path:  ..\\data\\images\\chainsaw-man-chapter-180\\9.jpeg?t=1729005075\n",
      "img_path:  ..\\data\\images\\chainsaw-man-chapter-180\\10.jpeg?t=1729005075\n",
      "img_path:  ..\\data\\images\\chainsaw-man-chapter-180\\11.jpeg?t=1729005075\n",
      "img_path:  ..\\data\\images\\chainsaw-man-chapter-180\\12.jpeg?t=1729005075\n",
      "img_path:  ..\\data\\images\\chainsaw-man-chapter-180\\13.jpeg?t=1729005075\n",
      "img_path:  ..\\data\\images\\chainsaw-man-chapter-180\\14.jpeg?t=1729005075\n",
      "img_path:  ..\\data\\images\\chainsaw-man-chapter-180\\15.jpeg?t=1729005075\n",
      "img_path:  ..\\data\\images\\chainsaw-man-chapter-180\\16.jpeg?t=1729005075\n",
      "img_path:  ..\\data\\images\\chainsaw-man-chapter-180\\17.jpeg?t=1729005075\n",
      "img_path:  ..\\data\\images\\chainsaw-man-chapter-180\\18.jpeg?t=1729005075\n",
      "Scraping Completed\n"
     ]
    }
   ],
   "source": [
    "from scraper import MangaScraper\n",
    "from image_processory import OCR\n",
    "from PIL import Image\n",
    "import gradio as gr\n",
    "import os\n",
    "\n",
    "uploaded_images = []\n",
    "languages_map = {\n",
    "    \"Hindi\": [os.path.join('..', 'data', 'fonts', \"NotoSansHindi-Regular.ttf\"), \"hi-IN\"],\n",
    "    \"Kannada\": [os.path.join('..', 'data', 'fonts', \"NotoSansKannada-Regular.ttf\"), \"kn-IN\"],\n",
    "    \"Bengali\": [os.path.join('..', 'data', 'fonts', \"NotoSansBengali-Regular.ttf\"), \"bn-IN\"],\n",
    "    \"Gujarati\": [os.path.join('..', 'data', 'fonts', \"NotoSansGujarati-Regular.ttf\"), \"gu-IN\"],\n",
    "}\n",
    "# Dummy function for translation (replace with actual translation logic)\n",
    "def translate_manga():\n",
    "    global uploaded_images\n",
    "    ocr = OCR()\n",
    "    translated_images = []\n",
    "    for i in uploaded_images:\n",
    "        translated_image = ocr.translate_image(i)\n",
    "        translated_images.append(translated_image)\n",
    "\n",
    "    return translated_images\n",
    "\n",
    "def process_uploaded_files(url):\n",
    "    global uploaded_images\n",
    "    uploaded_images = []\n",
    "    manga_scraper = MangaScraper()\n",
    "    \n",
    "    scraped_images_path = manga_scraper.scrape_manga_pill(url)\n",
    "    if(scraped_images_path != False):\n",
    "        print(\"Scraping Completed\")\n",
    "        images = [Image.open(file) for file in scraped_images_path]\n",
    "        uploaded_images = scraped_images_path\n",
    "    else:\n",
    "        print(\"An error occurred while scraping the manga\")\n",
    "        images = []\n",
    "\n",
    "    return images\n",
    "\n",
    "# Gradio interface\n",
    "with gr.Blocks() as manga_translation_ui:\n",
    "    languages = [\"Hindi\", \"Kannada\", \"Bengali\", \"Gujarati\"]\n",
    "    endpoints = [\"Groq\", \"Sarvam\"]\n",
    "    gr.Markdown(\"## Manga Translation Program\")\n",
    "\n",
    "    with gr.Row():\n",
    "        with gr.Column():\n",
    "            gr.Markdown(\"### Original Manga Pages\")\n",
    "            original_images = gr.Gallery(label=\"Upload Manga Pages\", interactive=False, height=\"900px\")\n",
    "        \n",
    "        with gr.Column():\n",
    "            gr.Markdown(\"### Translated Manga Pages\")\n",
    "            translated_images = gr.Gallery(label=\"Translated Manga Pages\", interactive=False, height=\"900px\")\n",
    "    \n",
    "    url_input = gr.Textbox(label=\"Enter Manga URL here...\", placeholder=\"Enter Manga URL here...\", lines=1)\n",
    "    language_dropdown = gr.Dropdown(label=\"Select a language\", choices=languages)\n",
    "    endpoint_dropdown = gr.Dropdown(label=\"Select an endpoint\", choices=endpoints)\n",
    "\n",
    "    upload_btn = gr.Button(\"Upload Manga Pages\")\n",
    "    translate_btn = gr.Button(\"Translate\")\n",
    "   \n",
    "    upload_btn.click(process_uploaded_files, inputs=[url_input], outputs=[original_images])\n",
    "    translate_btn.click(fn=translate_manga, inputs=None, outputs=[translated_images])\n",
    "\n",
    "# Launch the Gradio app\n",
    "manga_translation_ui.launch(debug=True)\n"
   ]
  },
  {
   "cell_type": "code",
   "execution_count": null,
   "metadata": {},
   "outputs": [],
   "source": []
  }
 ],
 "metadata": {
  "kernelspec": {
   "display_name": "Python 3",
   "language": "python",
   "name": "python3"
  },
  "language_info": {
   "codemirror_mode": {
    "name": "ipython",
    "version": 3
   },
   "file_extension": ".py",
   "mimetype": "text/x-python",
   "name": "python",
   "nbconvert_exporter": "python",
   "pygments_lexer": "ipython3",
   "version": "3.12.3"
  }
 },
 "nbformat": 4,
 "nbformat_minor": 2
}
