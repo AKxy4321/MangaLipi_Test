{
 "cells": [
  {
   "cell_type": "code",
   "execution_count": 1,
   "metadata": {},
   "outputs": [
    {
     "name": "stdout",
     "output_type": "stream",
     "text": [
      "* Running on local URL:  http://127.0.0.1:7860\n",
      "\n",
      "To create a public link, set `share=True` in `launch()`.\n"
     ]
    },
    {
     "data": {
      "text/html": [
       "<div><iframe src=\"http://127.0.0.1:7860/\" width=\"100%\" height=\"500\" allow=\"autoplay; camera; microphone; clipboard-read; clipboard-write;\" frameborder=\"0\" allowfullscreen></iframe></div>"
      ],
      "text/plain": [
       "<IPython.core.display.HTML object>"
      ]
     },
     "metadata": {},
     "output_type": "display_data"
    },
    {
     "name": "stdout",
     "output_type": "stream",
     "text": [
      "<img alt=\"Chainsaw Man Chapter 180 Page 1\" class=\"js-page\" data-src=\"https://cdn.readdetectiveconan.com/file/mangap/723/10180000/1.jpeg?t=1729005075\" height=\"1145\" loading=\"lazy\" width=\"784\"/>\n",
      "chainsaw-man-chapter-180\n",
      "dir_path: ../data/images/chainsaw-man-chapter-180\n",
      "Creation of the directory failed\n",
      "[Errno 17] File exists: '../data/images/chainsaw-man-chapter-180'\n",
      "img_path:  ../data/images/chainsaw-man-chapter-180/1.jpeg?t=1729005075\n",
      "img_path:  ../data/images/chainsaw-man-chapter-180/2.jpeg?t=1729005075\n",
      "img_path:  ../data/images/chainsaw-man-chapter-180/3.jpeg?t=1729005075\n",
      "img_path:  ../data/images/chainsaw-man-chapter-180/4.jpeg?t=1729005075\n",
      "img_path:  ../data/images/chainsaw-man-chapter-180/5.jpeg?t=1729005075\n",
      "img_path:  ../data/images/chainsaw-man-chapter-180/6.jpeg?t=1729005075\n",
      "img_path:  ../data/images/chainsaw-man-chapter-180/7.jpeg?t=1729005075\n",
      "img_path:  ../data/images/chainsaw-man-chapter-180/8.jpeg?t=1729005075\n",
      "img_path:  ../data/images/chainsaw-man-chapter-180/9.jpeg?t=1729005075\n",
      "img_path:  ../data/images/chainsaw-man-chapter-180/10.jpeg?t=1729005075\n",
      "img_path:  ../data/images/chainsaw-man-chapter-180/11.jpeg?t=1729005075\n",
      "img_path:  ../data/images/chainsaw-man-chapter-180/12.jpeg?t=1729005075\n",
      "img_path:  ../data/images/chainsaw-man-chapter-180/13.jpeg?t=1729005075\n",
      "img_path:  ../data/images/chainsaw-man-chapter-180/14.jpeg?t=1729005075\n",
      "img_path:  ../data/images/chainsaw-man-chapter-180/15.jpeg?t=1729005075\n",
      "img_path:  ../data/images/chainsaw-man-chapter-180/16.jpeg?t=1729005075\n",
      "img_path:  ../data/images/chainsaw-man-chapter-180/17.jpeg?t=1729005075\n",
      "img_path:  ../data/images/chainsaw-man-chapter-180/18.jpeg?t=1729005075\n",
      "Scraping Completed\n",
      "[2024/10/20 00:22:19] ppocr DEBUG: Namespace(help='==SUPPRESS==', use_gpu=False, use_xpu=False, use_npu=False, use_mlu=False, ir_optim=True, use_tensorrt=False, min_subgraph_size=15, precision='fp32', gpu_mem=500, gpu_id=0, image_dir=None, page_num=0, det_algorithm='DB', det_model_dir='/home/akxy4321/.paddleocr/whl/det/en/en_PP-OCRv3_det_infer', det_limit_side_len=960, det_limit_type='max', det_box_type='quad', det_db_thresh=0.3, det_db_box_thresh=0.6, det_db_unclip_ratio=1.5, max_batch_size=10, use_dilation=False, det_db_score_mode='fast', det_east_score_thresh=0.8, det_east_cover_thresh=0.1, det_east_nms_thresh=0.2, det_sast_score_thresh=0.5, det_sast_nms_thresh=0.2, det_pse_thresh=0, det_pse_box_thresh=0.85, det_pse_min_area=16, det_pse_scale=1, scales=[8, 16, 32], alpha=1.0, beta=1.0, fourier_degree=5, rec_algorithm='SVTR_LCNet', rec_model_dir='/home/akxy4321/.paddleocr/whl/rec/en/en_PP-OCRv4_rec_infer', rec_image_inverse=True, rec_image_shape='3, 48, 320', rec_batch_num=6, max_text_length=25, rec_char_dict_path='/home/akxy4321/miniconda3/envs/reskill/lib/python3.12/site-packages/paddleocr/ppocr/utils/en_dict.txt', use_space_char=True, vis_font_path='./doc/fonts/simfang.ttf', drop_score=0.5, e2e_algorithm='PGNet', e2e_model_dir=None, e2e_limit_side_len=768, e2e_limit_type='max', e2e_pgnet_score_thresh=0.5, e2e_char_dict_path='./ppocr/utils/ic15_dict.txt', e2e_pgnet_valid_set='totaltext', e2e_pgnet_mode='fast', use_angle_cls=True, cls_model_dir='/home/akxy4321/.paddleocr/whl/cls/ch_ppocr_mobile_v2.0_cls_infer', cls_image_shape='3, 48, 192', label_list=['0', '180'], cls_batch_num=6, cls_thresh=0.9, enable_mkldnn=False, cpu_threads=10, use_pdserving=False, warmup=False, sr_model_dir=None, sr_image_shape='3, 32, 128', sr_batch_num=1, draw_img_save_dir='./inference_results', save_crop_res=False, crop_res_save_dir='./output', use_mp=False, total_process_num=1, process_id=0, benchmark=False, save_log_path='./log_output/', show_log=True, use_onnx=False, return_word_box=False, output='./output', table_max_len=488, table_algorithm='TableAttn', table_model_dir=None, merge_no_span_structure=True, table_char_dict_path=None, formula_algorithm='LaTeXOCR', formula_model_dir=None, formula_char_dict_path=None, formula_batch_num=1, layout_model_dir=None, layout_dict_path=None, layout_score_threshold=0.5, layout_nms_threshold=0.5, kie_algorithm='LayoutXLM', ser_model_dir=None, re_model_dir=None, use_visual_backbone=True, ser_dict_path='../train_data/XFUND/class_list_xfun.txt', ocr_order_method=None, mode='structure', image_orientation=False, layout=True, table=True, formula=False, ocr=True, recovery=False, recovery_to_markdown=False, use_pdf2docx_api=False, invert=False, binarize=False, alphacolor=(255, 255, 255), lang='en', det=True, rec=True, type='ocr', savefile=False, ocr_version='PP-OCRv4', structure_version='PP-StructureV2')\n",
      "[2024/10/20 00:22:20] ppocr DEBUG: dt_boxes num : 0, elapsed : 0.2721750736236572\n",
      "[2024/10/20 00:22:20] ppocr DEBUG: cls num  : 0, elapsed : 0\n",
      "[2024/10/20 00:22:20] ppocr DEBUG: rec_res num  : 0, elapsed : 1.9073486328125e-06\n"
     ]
    }
   ],
   "source": [
    "from scraper import MangaScraper\n",
    "from image_processory import OCR\n",
    "from PIL import Image\n",
    "import gradio as gr\n",
    "import os\n",
    "\n",
    "uploaded_images = []\n",
    "languages_map = {\n",
    "    \"Hindi\": [os.path.join('..', 'data', 'fonts', \"NotoSansHindi-Regular.ttf\"), \"hi-IN\"],\n",
    "    \"Kannada\": [os.path.join('..', 'data', 'fonts', \"NotoSansKannada-Regular.ttf\"), \"kn-IN\"],\n",
    "    \"Bengali\": [os.path.join('..', 'data', 'fonts', \"NotoSansBengali-Regular.ttf\"), \"bn-IN\"],\n",
    "    \"Gujarati\": [os.path.join('..', 'data', 'fonts', \"NotoSansGujarati-Regular.ttf\"), \"gu-IN\"],\n",
    "}\n",
    "# Dummy function for translation (replace with actual translation logic)\n",
    "def translate_manga():\n",
    "    global uploaded_images\n",
    "    ocr = OCR()\n",
    "    translated_images = [ocr.translate_image(uploaded_image) for uploaded_image in uploaded_images]\n",
    "\n",
    "    # for i in uploaded_images:\n",
    "    #     translated_image = ocr.translate_image(i)\n",
    "    #     translated_images.append(translated_image)\n",
    "\n",
    "    return translated_images\n",
    "\n",
    "def process_uploaded_files(url):\n",
    "    global uploaded_images\n",
    "    uploaded_images = []\n",
    "    manga_scraper = MangaScraper()\n",
    "    \n",
    "    scraped_images_path = manga_scraper.scrape_manga_pill(url)\n",
    "    if(scraped_images_path != False):\n",
    "        print(\"Scraping Completed\")\n",
    "        images = [Image.open(file) for file in scraped_images_path]\n",
    "        uploaded_images = scraped_images_path\n",
    "    else:\n",
    "        print(\"An error occurred while scraping the manga\")\n",
    "        images = []\n",
    "\n",
    "    return images\n",
    "\n",
    "# Gradio interface\n",
    "with gr.Blocks() as manga_translation_ui:\n",
    "    languages = [\"Hindi\", \"Kannada\", \"Bengali\", \"Gujarati\"]\n",
    "    endpoints = [\"Groq\", \"Sarvam\"]\n",
    "    gr.Markdown(\"## Manga Translation Program\")\n",
    "\n",
    "    with gr.Row():\n",
    "        with gr.Column():\n",
    "            gr.Markdown(\"### Original Manga Pages\")\n",
    "            original_images = gr.Gallery(label=\"Upload Manga Pages\", interactive=False, height=\"900px\")\n",
    "        \n",
    "        with gr.Column():\n",
    "            gr.Markdown(\"### Translated Manga Pages\")\n",
    "            translated_images = gr.Gallery(label=\"Translated Manga Pages\", interactive=False, height=\"900px\")\n",
    "    \n",
    "    url_input = gr.Textbox(label=\"Enter Manga URL here...\", placeholder=\"Enter Manga URL here...\", lines=1)\n",
    "    language_dropdown = gr.Dropdown(label=\"Select a language\", choices=languages)\n",
    "    endpoint_dropdown = gr.Dropdown(label=\"Select an endpoint\", choices=endpoints)\n",
    "\n",
    "    upload_btn = gr.Button(\"Upload Manga Pages\")\n",
    "    translate_btn = gr.Button(\"Translate\")\n",
    "   \n",
    "    upload_btn.click(process_uploaded_files, inputs=[url_input], outputs=[original_images])\n",
    "    translate_btn.click(fn=translate_manga, inputs=None, outputs=[translated_images])\n",
    "\n",
    "# Launch the Gradio app\n",
    "manga_translation_ui.launch(debug=True)\n"
   ]
  },
  {
   "cell_type": "code",
   "execution_count": null,
   "metadata": {},
   "outputs": [],
   "source": []
  }
 ],
 "metadata": {
  "kernelspec": {
   "display_name": "Python 3",
   "language": "python",
   "name": "python3"
  },
  "language_info": {
   "codemirror_mode": {
    "name": "ipython",
    "version": 3
   },
   "file_extension": ".py",
   "mimetype": "text/x-python",
   "name": "python",
   "nbconvert_exporter": "python",
   "pygments_lexer": "ipython3",
   "version": "3.12.3"
  }
 },
 "nbformat": 4,
 "nbformat_minor": 2
}
