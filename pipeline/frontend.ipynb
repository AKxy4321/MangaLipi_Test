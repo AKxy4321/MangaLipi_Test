{
 "cells": [
  {
   "cell_type": "code",
   "execution_count": 2,
   "metadata": {},
   "outputs": [
    {
     "name": "stdout",
     "output_type": "stream",
     "text": [
      "* Running on local URL:  http://127.0.0.1:7860\n",
      "\n",
      "To create a public link, set `share=True` in `launch()`.\n"
     ]
    },
    {
     "data": {
      "text/html": [
       "<div><iframe src=\"http://127.0.0.1:7860/\" width=\"100%\" height=\"500\" allow=\"autoplay; camera; microphone; clipboard-read; clipboard-write;\" frameborder=\"0\" allowfullscreen></iframe></div>"
      ],
      "text/plain": [
       "<IPython.core.display.HTML object>"
      ]
     },
     "metadata": {},
     "output_type": "display_data"
    },
    {
     "name": "stdout",
     "output_type": "stream",
     "text": [
      "<img alt=\"Angel Beats! - Heaven's Door Chapter 75 Page 1\" class=\"js-page\" data-src=\"https://cdn.readdetectiveconan.com/file/mangap/250/10075000/1.jpg\" height=\"1600\" loading=\"lazy\" width=\"1125\"/>\n",
      "Scraping Completed\n"
     ]
    }
   ],
   "source": [
    "import gradio as gr\n",
    "from PIL import Image\n",
    "import os\n",
    "from scraper import MangaScraper\n",
    "\n",
    "uploaded_images = []\n",
    "# Dummy function for translation (replace with actual translation logic)\n",
    "def translate_manga():\n",
    "    global uploaded_images\n",
    "    # Just copying the uploaded images for this example\n",
    "    translated_images = [image.copy() for image in uploaded_images]\n",
    "    return translated_images\n",
    "\n",
    "def process_uploaded_files(url):\n",
    "    global uploaded_images\n",
    "    uploaded_images = []\n",
    "    manga_scraper = MangaScraper()\n",
    "    \n",
    "    scraped_images_path = manga_scraper.scrape_manga_pill(url)\n",
    "    if(scraped_images_path != False):\n",
    "        print(\"Scraping Completed\")\n",
    "        images = [Image.open(file) for file in scraped_images_path]\n",
    "        uploaded_images.extend(images)\n",
    "    else:\n",
    "        print(\"An error occurred while scraping the manga\")\n",
    "        images = []\n",
    "\n",
    "    return images\n",
    "\n",
    "# Gradio interface\n",
    "with gr.Blocks() as manga_translation_ui:\n",
    "    gr.Markdown(\"## Manga Translation Program\")\n",
    "\n",
    "    with gr.Row():\n",
    "        with gr.Column():\n",
    "            gr.Markdown(\"### Original Manga Pages\")\n",
    "            original_images = gr.Gallery(label=\"Upload Manga Pages\", interactive=False, height=\"900px\")\n",
    "        \n",
    "        with gr.Column():\n",
    "            gr.Markdown(\"### Translated Manga Pages\")\n",
    "            translated_images = gr.Gallery(label=\"Translated Manga Pages\", interactive=False, height=\"900px\")\n",
    "    \n",
    "    url_input = gr.Textbox(label=\"Enter Manga URL here...\", placeholder=\"Enter Manga URL here...\", lines=1)\n",
    "\n",
    "    upload_btn = gr.Button(\"Upload Manga Pages\")\n",
    "    translate_btn = gr.Button(\"Translate\")\n",
    "\n",
    "    # Define how the upload and translate buttons interact with the UI\n",
    "    upload_btn.click(process_uploaded_files, inputs=[url_input], outputs=[original_images])\n",
    "    translate_btn.click(fn=translate_manga, inputs=None, outputs=[translated_images])\n",
    "\n",
    "# Launch the Gradio app\n",
    "manga_translation_ui.launch(debug=True)\n"
   ]
  },
  {
   "cell_type": "code",
   "execution_count": null,
   "metadata": {},
   "outputs": [],
   "source": []
  }
 ],
 "metadata": {
  "kernelspec": {
   "display_name": "Python 3",
   "language": "python",
   "name": "python3"
  },
  "language_info": {
   "codemirror_mode": {
    "name": "ipython",
    "version": 3
   },
   "file_extension": ".py",
   "mimetype": "text/x-python",
   "name": "python",
   "nbconvert_exporter": "python",
   "pygments_lexer": "ipython3",
   "version": "3.12.3"
  }
 },
 "nbformat": 4,
 "nbformat_minor": 2
}
