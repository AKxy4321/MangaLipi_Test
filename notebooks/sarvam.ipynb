{
 "cells": [
  {
   "cell_type": "code",
   "execution_count": null,
   "metadata": {},
   "outputs": [],
   "source": [
    "import requests\n",
    "\n",
    "url = \"https://api.sarvam.ai/translate\"\n",
    "\n",
    "payload = {\n",
    "    \"input\": \"an apple a day keeps the doctor away\",\n",
    "    \"source_language_code\": \"en-IN\",\n",
    "    \"target_language_code\": \"kn-IN\",\n",
    "    \"speaker_gender\": \"Male\",\n",
    "    \"mode\": \"formal\",\n",
    "    \"model\": \"mayura:v1\",\n",
    "    \"enable_preprocessing\": True\n",
    "}\n",
    "headers = {\"Content-Type\": \"application/json\",\n",
    "           \"API-Subscription-Key\": \"223f1de5-2860-4900-b3bb-e733ad9653a8\"}\n",
    "\n",
    "response = requests.request(\"POST\", url, json=payload, headers=headers)\n",
    "\n",
    "print(response.text)"
   ]
  },
  {
   "cell_type": "code",
   "execution_count": null,
   "metadata": {},
   "outputs": [],
   "source": []
  }
 ],
 "metadata": {
  "kernelspec": {
   "display_name": "reskill",
   "language": "python",
   "name": "python3"
  },
  "language_info": {
   "name": "python",
   "version": "3.12.3"
  }
 },
 "nbformat": 4,
 "nbformat_minor": 2
}
